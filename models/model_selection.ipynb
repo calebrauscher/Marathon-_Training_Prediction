{
 "cells": [
  {
   "attachments": {},
   "cell_type": "markdown",
   "metadata": {},
   "source": [
    "# Model Evaluation\n",
    "\n",
    "A Lasso Regression, Ridge Regression, Random Forest Regression, and AdaBoost Regression model was created on the overall dataset to determine which model could predict the finish time the best."
   ]
  },
  {
   "cell_type": "code",
   "execution_count": 119,
   "metadata": {},
   "outputs": [],
   "source": [
    "from sklearn.model_selection import train_test_split\n",
    "from sklearn.preprocessing import StandardScaler\n",
    "import pandas as pd\n",
    "import numpy as np\n",
    "from sklearn.linear_model import LassoCV\n",
    "from sklearn.linear_model import RidgeCV\n",
    "from sklearn.ensemble import RandomForestRegressor\n",
    "from sklearn.ensemble import AdaBoostRegressor\n",
    "from sklearn.model_selection import GridSearchCV\n",
    "from sklearn.metrics import mean_squared_error, mean_absolute_error, mean_absolute_percentage_error"
   ]
  },
  {
   "attachments": {},
   "cell_type": "markdown",
   "metadata": {},
   "source": [
    "## Data\n",
    "\n",
    "The features are limited to those that were discovered using Lasso Regression."
   ]
  },
  {
   "cell_type": "code",
   "execution_count": 120,
   "metadata": {},
   "outputs": [],
   "source": [
    "marathon_data = pd.read_csv(\n",
    "    r\"data\\marathon_runners.csv\", header=0).drop(columns=\"Unnamed: 0\")\n",
    "marathon_data = marathon_data.drop_duplicates()\n",
    "marathon_data = marathon_data[marathon_data[\"week_1_total_distance\"] > 0]\n",
    "marathon_data = marathon_data[marathon_data[\"duration\"] < 480].reset_index()\n",
    "\n",
    "for column in marathon_data.columns:\n",
    "    if \"_pace\" in column:\n",
    "        marathon_data[column] = (\n",
    "            marathon_data[column] - marathon_data[\"pace\"]) / (marathon_data[\"pace\"])\n",
    "\n",
    "scaler = StandardScaler().set_output(transform=\"pandas\")\n",
    "\n",
    "X = marathon_data.loc[:, [\"week_5_total_distance\", \"week_6_total_distance\",\n",
    "                          \"week_9_total_distance\", \"week_10_total_distance\",\n",
    "                          \"week_11_total_distance\", \"week_13_total_distance\",\n",
    "                          \"week_14_total_distance\", \"week_15_total_distance\",\n",
    "                          \"week_1_average_distance\", \"week_7_average_distance\",\n",
    "                          \"week_10_average_distance\", \"week_11_average_distance\",\n",
    "                          \"week_12_average_distance\", \"week_13_average_distance\",\n",
    "                          \"week_14_average_distance\", \"week_16_average_distance\",\n",
    "                          \"week_1_shortest_distance\", \"week_2_longest_time\",\n",
    "                          \"week_3_longest_time\", \"week_6_longest_time\", \"week_7_longest_time\",\n",
    "                          \"week_9_longest_time\", \"week_10_longest_time\", \"week_11_longest_time\",\n",
    "                          \"week_12_longest_time\", \"week_13_longest_time\", \"week_14_longest_time\",\n",
    "                          \"week_15_longest_time\", \"week_1_average_duration\",\n",
    "                          \"week_2_average_duration\", \"week_3_average_duration\",\n",
    "                          \"week_4_average_duration\", \"week_5_average_duration\",\n",
    "                          \"week_8_average_duration\", \"week_9_average_duration\",\n",
    "                          \"week_11_average_duration\", \"week_13_average_duration\",\n",
    "                          \"week_14_average_duration\", \"week_15_average_duration\",\n",
    "                          \"week_16_average_duration\", \"week_1_fastest_pace\",\n",
    "                          \"week_2_fastest_pace\", \"week_3_fastest_pace\", \"week_4_fastest_pace\",\n",
    "                          \"week_5_fastest_pace\", \"week_6_fastest_pace\", \"week_8_fastest_pace\",\n",
    "                          \"week_10_fastest_pace\", \"week_11_fastest_pace\", \"week_12_fastest_pace\",\n",
    "                          \"week_13_fastest_pace\", \"week_14_fastest_pace\", \"week_15_fastest_pace\",\n",
    "                          \"week_16_fastest_pace\"]]\n",
    "y = marathon_data.loc[:, \"duration\"]\n",
    "X = scaler.fit_transform(X)\n",
    "y = marathon_data.loc[:, \"duration\"].astype(\"int32\")\n",
    "y = np.array(scaler.fit_transform(np.array(y).reshape(-1, 1))).ravel()\n",
    "\n",
    "X_train, X_test, y_train, y_test = train_test_split(X, y, test_size=0.2)\n"
   ]
  },
  {
   "attachments": {},
   "cell_type": "markdown",
   "metadata": {},
   "source": [
    "## Metrics\n",
    "\n",
    "To measure each model the Mean Squared Error (MSE), Root Mean Squared Error (RMSE), Mean Absolute Error (MAE), and rhe Mean Absolute Percentage Error (MAPE) are used to determine the models ability to predict the race finish time."
   ]
  },
  {
   "cell_type": "code",
   "execution_count": 121,
   "metadata": {},
   "outputs": [],
   "source": [
    "def report_score(test_value, predict_value):\n",
    "    test_value = scaler.inverse_transform(test_value.reshape(-1,1))\n",
    "    predict_value = scaler.inverse_transform(predict_value.reshape(-1,1))\n",
    "    print(f\"Mean Squared Error: {round(mean_squared_error(test_value, predict_value),2)}\")\n",
    "    print(f\"Root Mean Squared Error: {round(np.sqrt(mean_squared_error(test_value, predict_value)),2)}\")\n",
    "    print(f\"Mean Absolute Error: {round(mean_absolute_error(test_value, predict_value),2)}\")\n",
    "    print(f\"Mean Absolute Percentage Error: {round(mean_absolute_percentage_error(test_value, predict_value),2) * 100}%\")\n",
    "    "
   ]
  },
  {
   "attachments": {},
   "cell_type": "markdown",
   "metadata": {},
   "source": [
    "The Lasso model is the first model fitted to the training data using cross folds validation of 10 folds."
   ]
  },
  {
   "cell_type": "code",
   "execution_count": 122,
   "metadata": {},
   "outputs": [
    {
     "data": {
      "text/plain": [
       "0.7579077256391812"
      ]
     },
     "execution_count": 122,
     "metadata": {},
     "output_type": "execute_result"
    }
   ],
   "source": [
    "lasso_model = LassoCV(cv=10).fit(X_train, y_train)\n",
    "lasso_model.score(X_train, y_train)"
   ]
  },
  {
   "cell_type": "code",
   "execution_count": 123,
   "metadata": {},
   "outputs": [
    {
     "name": "stdout",
     "output_type": "stream",
     "text": [
      "Mean Squared Error: 6553.83\n",
      "Root Mean Squared Error: 80.96\n",
      "Mean Absolute Error: 18.14\n",
      "Mean Absolute Percentage Error: 8.0%\n"
     ]
    }
   ],
   "source": [
    "lasso_predict = lasso_model.predict(X_test)\n",
    "report_score(y_test, lasso_predict)"
   ]
  },
  {
   "attachments": {},
   "cell_type": "markdown",
   "metadata": {},
   "source": [
    "The Lasso coefficients."
   ]
  },
  {
   "cell_type": "code",
   "execution_count": 124,
   "metadata": {},
   "outputs": [
    {
     "name": "stdout",
     "output_type": "stream",
     "text": [
      "-0.05 * week_5_total_distance\n",
      "-0.02 * week_6_total_distance\n",
      "-0.02 * week_9_total_distance\n",
      "-0.01 * week_10_total_distance\n",
      "0.04 * week_11_total_distance\n",
      "-0.0 * week_13_total_distance\n",
      "-0.0 * week_14_total_distance\n",
      "-0.02 * week_15_total_distance\n",
      "-0.54 * week_1_average_distance\n",
      "-0.02 * week_7_average_distance\n",
      "-0.04 * week_10_average_distance\n",
      "-0.11 * week_11_average_distance\n",
      "-0.01 * week_12_average_distance\n",
      "-0.18 * week_13_average_distance\n",
      "-0.22 * week_14_average_distance\n",
      "-0.48 * week_16_average_distance\n",
      "0.04 * week_1_shortest_distance\n",
      "-0.02 * week_2_longest_time\n",
      "-0.02 * week_3_longest_time\n",
      "0.02 * week_6_longest_time\n",
      "0.02 * week_7_longest_time\n",
      "-0.0 * week_9_longest_time\n",
      "0.05 * week_10_longest_time\n",
      "-0.03 * week_11_longest_time\n",
      "0.03 * week_12_longest_time\n",
      "0.01 * week_13_longest_time\n",
      "-0.01 * week_14_longest_time\n",
      "0.02 * week_15_longest_time\n",
      "0.48 * week_1_average_duration\n",
      "0.05 * week_2_average_duration\n",
      "0.06 * week_3_average_duration\n",
      "0.05 * week_4_average_duration\n",
      "0.1 * week_5_average_duration\n",
      "0.0 * week_8_average_duration\n",
      "0.03 * week_9_average_duration\n",
      "0.14 * week_11_average_duration\n",
      "0.21 * week_13_average_duration\n",
      "0.27 * week_14_average_duration\n",
      "0.03 * week_15_average_duration\n",
      "0.46 * week_16_average_duration\n",
      "-0.79 * week_1_fastest_pace\n",
      "-0.09 * week_2_fastest_pace\n",
      "-0.05 * week_3_fastest_pace\n",
      "-0.06 * week_4_fastest_pace\n",
      "-0.08 * week_5_fastest_pace\n",
      "-0.01 * week_6_fastest_pace\n",
      "-0.04 * week_8_fastest_pace\n",
      "-0.02 * week_10_fastest_pace\n",
      "-0.03 * week_11_fastest_pace\n",
      "-0.02 * week_12_fastest_pace\n",
      "-0.04 * week_13_fastest_pace\n",
      "-0.06 * week_14_fastest_pace\n",
      "-0.1 * week_15_fastest_pace\n",
      "-0.2 * week_16_fastest_pace\n"
     ]
    }
   ],
   "source": [
    "for feature, coef in zip(lasso_model.feature_names_in_, lasso_model.coef_):\n",
    "    print(f\"{round(coef,2)} * {feature}\")"
   ]
  },
  {
   "attachments": {},
   "cell_type": "markdown",
   "metadata": {},
   "source": [
    "Next the Ridge model is used with the same criteria as the Lasso algorithm."
   ]
  },
  {
   "cell_type": "code",
   "execution_count": 125,
   "metadata": {},
   "outputs": [
    {
     "data": {
      "text/plain": [
       "0.7582352295299393"
      ]
     },
     "execution_count": 125,
     "metadata": {},
     "output_type": "execute_result"
    }
   ],
   "source": [
    "ridge_model = RidgeCV(cv=10).fit(X_train, y_train)\n",
    "ridge_model.score(X_train, y_train)"
   ]
  },
  {
   "cell_type": "code",
   "execution_count": 126,
   "metadata": {},
   "outputs": [
    {
     "name": "stdout",
     "output_type": "stream",
     "text": [
      "Mean Squared Error: 6417.83\n",
      "Root Mean Squared Error: 80.11\n",
      "Mean Absolute Error: 18.16\n",
      "Mean Absolute Percentage Error: 8.0%\n"
     ]
    }
   ],
   "source": [
    "ridge_predict = ridge_model.predict(X_test)\n",
    "report_score(y_test, ridge_predict)"
   ]
  },
  {
   "attachments": {},
   "cell_type": "markdown",
   "metadata": {},
   "source": [
    "A Random Forest model is then used."
   ]
  },
  {
   "cell_type": "code",
   "execution_count": 127,
   "metadata": {},
   "outputs": [
    {
     "data": {
      "text/plain": [
       "0.957201379698136"
      ]
     },
     "execution_count": 127,
     "metadata": {},
     "output_type": "execute_result"
    }
   ],
   "source": [
    "rf_regr = RandomForestRegressor(min_samples_leaf=2).fit(X_train, y_train)\n",
    "rf_regr.score(X_train, y_train)"
   ]
  },
  {
   "cell_type": "code",
   "execution_count": 128,
   "metadata": {},
   "outputs": [
    {
     "name": "stdout",
     "output_type": "stream",
     "text": [
      "Mean Squared Error: 702.14\n",
      "Root Mean Squared Error: 26.5\n",
      "Mean Absolute Error: 18.35\n",
      "Mean Absolute Percentage Error: 8.0%\n"
     ]
    }
   ],
   "source": [
    "rf_regr_predict = rf_regr.predict(X_test)\n",
    "report_score(y_test, rf_regr_predict)"
   ]
  },
  {
   "attachments": {},
   "cell_type": "markdown",
   "metadata": {},
   "source": [
    "A grid search is used to find the best parameters for an AdaBoost Regression model/"
   ]
  },
  {
   "cell_type": "code",
   "execution_count": 129,
   "metadata": {},
   "outputs": [
    {
     "data": {
      "text/plain": [
       "dict_keys(['mean_fit_time', 'std_fit_time', 'mean_score_time', 'std_score_time', 'param_learning_rate', 'param_loss', 'param_n_estimators', 'params', 'split0_test_score', 'split1_test_score', 'split2_test_score', 'split3_test_score', 'split4_test_score', 'mean_test_score', 'std_test_score', 'rank_test_score'])"
      ]
     },
     "execution_count": 129,
     "metadata": {},
     "output_type": "execute_result"
    }
   ],
   "source": [
    "params = {\"n_estimators\": np.arange(50, 100, 50), \"learning_rate\": np.arange(\n",
    "    0.1, 1, 0.1), \"loss\": [\"linear\", \"square\", \"exponential\"]}\n",
    "grid_search_ABR = GridSearchCV(\n",
    "    AdaBoostRegressor(), param_grid=params, scoring=\"neg_mean_squared_error\")\n",
    "grid_search_ABR.fit(X_train, y_train)\n",
    "grid_search_ABR.cv_results_.keys()\n"
   ]
  },
  {
   "attachments": {},
   "cell_type": "markdown",
   "metadata": {},
   "source": [
    "The best values for \"learning_rate\", \"loss\", and \"n_estimators\" is shown below."
   ]
  },
  {
   "cell_type": "code",
   "execution_count": 131,
   "metadata": {},
   "outputs": [
    {
     "data": {
      "text/plain": [
       "{'learning_rate': 0.1, 'loss': 'square', 'n_estimators': 50}"
      ]
     },
     "execution_count": 131,
     "metadata": {},
     "output_type": "execute_result"
    }
   ],
   "source": [
    "best_params = grid_search_ABR.cv_results_.get(\"params\")[np.argmax(\n",
    "    grid_search_ABR.cv_results_.get(\"rank_test_score\"))]\n",
    "\n",
    "best_params"
   ]
  },
  {
   "attachments": {},
   "cell_type": "markdown",
   "metadata": {},
   "source": [
    "The Adaboost model with the best parameters is fit with the training data."
   ]
  },
  {
   "cell_type": "code",
   "execution_count": 138,
   "metadata": {},
   "outputs": [
    {
     "data": {
      "text/plain": [
       "0.6229847897241528"
      ]
     },
     "execution_count": 138,
     "metadata": {},
     "output_type": "execute_result"
    }
   ],
   "source": [
    "adaboost = AdaBoostRegressor(learning_rate=best_params.get(\"learning_rate\"),\n",
    "                             loss=best_params.get(\"loss\"),\n",
    "                             n_estimators=best_params.get(\"n_estimators\")\n",
    "                             ).fit(X_train, y_train)\n",
    "adaboost.score(X_train, y_train)\n"
   ]
  },
  {
   "cell_type": "code",
   "execution_count": 139,
   "metadata": {},
   "outputs": [
    {
     "name": "stdout",
     "output_type": "stream",
     "text": [
      "Mean Squared Error: 1137.73\n",
      "Root Mean Squared Error: 33.73\n",
      "Mean Absolute Error: 25.65\n",
      "Mean Absolute Percentage Error: 12.0%\n"
     ]
    }
   ],
   "source": [
    "adaboost_predict = adaboost.predict(X_test)\n",
    "report_score(y_test, adaboost_predict)"
   ]
  }
 ],
 "metadata": {
  "kernelspec": {
   "display_name": "Python 3",
   "language": "python",
   "name": "python3"
  },
  "language_info": {
   "codemirror_mode": {
    "name": "ipython",
    "version": 3
   },
   "file_extension": ".py",
   "mimetype": "text/x-python",
   "name": "python",
   "nbconvert_exporter": "python",
   "pygments_lexer": "ipython3",
   "version": "3.11.1"
  },
  "orig_nbformat": 4
 },
 "nbformat": 4,
 "nbformat_minor": 2
}
